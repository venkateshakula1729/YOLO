{
  "metadata": {
    "kernelspec": {
      "display_name": "Python 3",
      "name": "python3"
    },
    "language_info": {
      "pygments_lexer": "ipython3",
      "nbconvert_exporter": "python",
      "version": "3.6.4",
      "file_extension": ".py",
      "codemirror_mode": {
        "name": "ipython",
        "version": 3
      },
      "name": "python",
      "mimetype": "text/x-python"
    },
    "colab": {
      "provenance": [],
      "gpuType": "T4",
      "include_colab_link": true
    },
    "accelerator": "GPU"
  },
  "nbformat_minor": 0,
  "nbformat": 4,
  "cells": [
    {
      "cell_type": "markdown",
      "metadata": {
        "id": "view-in-github",
        "colab_type": "text"
      },
      "source": [
        "<a href=\"https://colab.research.google.com/github/Poojal04/YOLO/blob/main/YOLO_Assignment_3.ipynb\" target=\"_parent\"><img src=\"https://colab.research.google.com/assets/colab-badge.svg\" alt=\"Open In Colab\"/></a>"
      ]
    },
    {
      "cell_type": "markdown",
      "source": [
        ".csv files link: https://drive.google.com/drive/folders/1_61paubLpjXutt7jyuvjyjRapAdz8mH9?usp=sharing\n",
        "\n",
        "Submission link: https://forms.gle/UU4MuksSZqgNYeXK7\n",
        "\n",
        "Form closes at: 8:00PM, June 2nd 2023. You may continue to edit the assignment until 11:59PM, June 4th 2023.\n"
      ],
      "metadata": {
        "id": "g63cwkrkbw83"
      }
    },
    {
      "cell_type": "markdown",
      "source": [
        "# 1. Introduction\n"
      ],
      "metadata": {
        "id": "3k1Txf1vp1nV"
      }
    },
    {
      "cell_type": "markdown",
      "source": [],
      "metadata": {
        "id": "3kKX96Xye_xE"
      }
    },
    {
      "cell_type": "markdown",
      "source": [
        "**Import all Necessary Libraries**"
      ],
      "metadata": {
        "_uuid": "7ed04b1e7a00a7ad31ee98a7d8e55880e6274f29",
        "id": "NIyoa1bYp1nW"
      }
    },
    {
      "cell_type": "code",
      "source": [
        "import pandas as pd\n",
        "import numpy as np\n",
        "\n",
        "import matplotlib.pyplot as plt\n",
        "import seaborn as sns\n",
        "\n",
        "from sklearn.model_selection import train_test_split\n",
        "from sklearn.metrics import confusion_matrix\n",
        "\n",
        "import keras\n",
        "from keras.models import Sequential\n",
        "from keras.layers import Conv2D, Lambda, MaxPooling2D # convolution layers\n",
        "from keras.layers import Dense, Dropout, Flatten # core layers\n",
        "from tensorflow.keras.layers import BatchNormalization\n",
        "from keras.preprocessing.image import ImageDataGenerator\n",
        "\n",
        "from keras.utils.np_utils import to_categorical\n",
        "\n"
      ],
      "metadata": {
        "_uuid": "0f935bddcc5ca02702578e712bf7f396ba7154ef",
        "execution": {
          "iopub.status.busy": "2023-05-30T13:35:07.139049Z",
          "iopub.execute_input": "2023-05-30T13:35:07.139351Z",
          "iopub.status.idle": "2023-05-30T13:35:09.390491Z",
          "shell.execute_reply.started": "2023-05-30T13:35:07.139296Z",
          "shell.execute_reply": "2023-05-30T13:35:09.389583Z"
        },
        "trusted": true,
        "id": "b39kNGuGp1nW"
      },
      "execution_count": null,
      "outputs": []
    },
    {
      "cell_type": "markdown",
      "source": [
        "# 2. Data preparation\n",
        "## 2.1 Load data"
      ],
      "metadata": {
        "_uuid": "f94870f1682c45b0e4ea378d287302656af3cf8e",
        "id": "g2jNt52Rp1nY"
      }
    },
    {
      "cell_type": "code",
      "source": [
        "train = pd.read_csv('train.csv')\n",
        "test = pd.read_csv('test.csv')\n",
        "sub = pd.read_csv('sample_submission.csv')"
      ],
      "metadata": {
        "execution": {
          "iopub.status.busy": "2023-05-30T13:36:27.341562Z",
          "iopub.execute_input": "2023-05-30T13:36:27.341895Z",
          "iopub.status.idle": "2023-05-30T13:36:33.751175Z",
          "shell.execute_reply.started": "2023-05-30T13:36:27.341836Z",
          "shell.execute_reply": "2023-05-30T13:36:33.750294Z"
        },
        "trusted": true,
        "id": "jAUEqeo_p1nY"
      },
      "execution_count": null,
      "outputs": []
    },
    {
      "cell_type": "code",
      "source": [
        "print(f\"Training data size is {train.shape}\\nTesting data size is {test.shape}\")"
      ],
      "metadata": {
        "execution": {
          "iopub.status.busy": "2023-05-30T13:36:37.017930Z",
          "iopub.execute_input": "2023-05-30T13:36:37.018285Z",
          "iopub.status.idle": "2023-05-30T13:36:37.024349Z",
          "shell.execute_reply.started": "2023-05-30T13:36:37.018227Z",
          "shell.execute_reply": "2023-05-30T13:36:37.023155Z"
        },
        "trusted": true,
        "id": "O5mhCTJip1nY",
        "colab": {
          "base_uri": "https://localhost:8080/"
        },
        "outputId": "aad0a505-1b75-41e7-d209-34bdf705efa6"
      },
      "execution_count": null,
      "outputs": [
        {
          "output_type": "stream",
          "name": "stdout",
          "text": [
            "Training data size is (42000, 785)\n",
            "Testing data size is (28000, 784)\n"
          ]
        }
      ]
    },
    {
      "cell_type": "markdown",
      "source": [
        "**Set data features and labels**"
      ],
      "metadata": {
        "id": "vT3sQM35p1nY"
      }
    },
    {
      "cell_type": "code",
      "source": [
        "X = train.drop(['label'], 1).values\n",
        "y = train['label'].values\n",
        "X.shape"
      ],
      "metadata": {
        "execution": {
          "iopub.status.busy": "2023-05-30T13:36:39.661470Z",
          "iopub.execute_input": "2023-05-30T13:36:39.661876Z",
          "iopub.status.idle": "2023-05-30T13:36:39.853976Z",
          "shell.execute_reply.started": "2023-05-30T13:36:39.661806Z",
          "shell.execute_reply": "2023-05-30T13:36:39.852421Z"
        },
        "trusted": true,
        "id": "LzzT0HzSp1nZ",
        "colab": {
          "base_uri": "https://localhost:8080/"
        },
        "outputId": "158aa23c-413e-4b63-e739-409cab4c0cc3"
      },
      "execution_count": null,
      "outputs": [
        {
          "output_type": "stream",
          "name": "stderr",
          "text": [
            "<ipython-input-6-841aa4b3c001>:1: FutureWarning: In a future version of pandas all arguments of DataFrame.drop except for the argument 'labels' will be keyword-only.\n",
            "  X = train.drop(['label'], 1).values\n"
          ]
        },
        {
          "output_type": "execute_result",
          "data": {
            "text/plain": [
              "(42000, 784)"
            ]
          },
          "metadata": {},
          "execution_count": 6
        }
      ]
    },
    {
      "cell_type": "markdown",
      "source": [
        "## 2.2 Normalization"
      ],
      "metadata": {
        "id": "wN8OzFUpp1nZ"
      }
    },
    {
      "cell_type": "markdown",
      "source": [
        "The activation values of X range from 0 to 255.\n",
        "Normalize them to have a range of 0 to 1\n",
        "\n"
      ],
      "metadata": {
        "id": "cSLENzq6p1nZ"
      }
    },
    {
      "cell_type": "code",
      "source": [
        "X=X/255.0\n",
        "X.shape"
      ],
      "metadata": {
        "execution": {
          "iopub.status.busy": "2023-05-30T13:36:43.087276Z",
          "iopub.execute_input": "2023-05-30T13:36:43.087586Z",
          "iopub.status.idle": "2023-05-30T13:36:43.327014Z",
          "shell.execute_reply.started": "2023-05-30T13:36:43.087534Z",
          "shell.execute_reply": "2023-05-30T13:36:43.326084Z"
        },
        "trusted": true,
        "id": "I_ohF5YMp1na",
        "colab": {
          "base_uri": "https://localhost:8080/"
        },
        "outputId": "5a359210-c8ea-4068-96a2-65f72e6abaca"
      },
      "execution_count": null,
      "outputs": [
        {
          "output_type": "execute_result",
          "data": {
            "text/plain": [
              "(42000, 784)"
            ]
          },
          "metadata": {},
          "execution_count": 7
        }
      ]
    },
    {
      "cell_type": "markdown",
      "source": [
        "## 2.3 Reshape"
      ],
      "metadata": {
        "id": "BmRMh_2bp1na"
      }
    },
    {
      "cell_type": "code",
      "source": [
        "# Reshape image in 3 dimensions (height = 28px, width = 28px , canal = 1)\n",
        "# canal = 1 => For gray scale\n",
        "# desired X.shape = (42000, 28, 28, 1)\n",
        "X = X.reshape(42000,28,-1,1)\n",
        "X.shape"
      ],
      "metadata": {
        "execution": {
          "iopub.status.busy": "2023-05-30T13:36:44.643672Z",
          "iopub.execute_input": "2023-05-30T13:36:44.643985Z",
          "iopub.status.idle": "2023-05-30T13:36:44.648329Z",
          "shell.execute_reply.started": "2023-05-30T13:36:44.643928Z",
          "shell.execute_reply": "2023-05-30T13:36:44.647270Z"
        },
        "trusted": true,
        "id": "SeA3Saobp1na",
        "colab": {
          "base_uri": "https://localhost:8080/"
        },
        "outputId": "f40b4bca-dea5-4afd-873c-274de69837dc"
      },
      "execution_count": null,
      "outputs": [
        {
          "output_type": "execute_result",
          "data": {
            "text/plain": [
              "(42000, 28, 28, 1)"
            ]
          },
          "metadata": {},
          "execution_count": 8
        }
      ]
    },
    {
      "cell_type": "markdown",
      "source": [
        "## 2.4 Label encoding"
      ],
      "metadata": {
        "id": "2EOA8NLfp1na"
      }
    },
    {
      "cell_type": "markdown",
      "source": [
        "**One-Hot Encoding**"
      ],
      "metadata": {
        "id": "gWkiXWp4p1na"
      }
    },
    {
      "cell_type": "code",
      "source": [
        "# Encode labels to one hot vectors (ex : 2 -> [0,0,1,0,0,0,0,0,0,0])\n",
        "y = to_categorical(y) # You should use Keras to do this\n",
        "# previous y.shape = (42000, 1)\n",
        "print(f\"Label size {y.shape}\")"
      ],
      "metadata": {
        "execution": {
          "iopub.status.busy": "2023-05-30T13:36:46.972062Z",
          "iopub.execute_input": "2023-05-30T13:36:46.972388Z",
          "iopub.status.idle": "2023-05-30T13:36:46.978845Z",
          "shell.execute_reply.started": "2023-05-30T13:36:46.972334Z",
          "shell.execute_reply": "2023-05-30T13:36:46.978045Z"
        },
        "trusted": true,
        "id": "1zsH-tgCp1nb",
        "colab": {
          "base_uri": "https://localhost:8080/"
        },
        "outputId": "6cf80e2f-8f73-411c-984d-6855adc18cbb"
      },
      "execution_count": null,
      "outputs": [
        {
          "output_type": "stream",
          "name": "stdout",
          "text": [
            "Label size (42000, 10)\n"
          ]
        }
      ]
    },
    {
      "cell_type": "markdown",
      "source": [
        "Labels are 10 digits numbers from 0 to 9. We need to encode these lables to one hot vectors (ex : 2 -> [0,0,1,0,0,0,0,0,0,0])."
      ],
      "metadata": {
        "id": "GW1ekuA8p1nb"
      }
    },
    {
      "cell_type": "markdown",
      "source": [
        "## 2.5 Split training and valdiation set"
      ],
      "metadata": {
        "id": "ZR4kfsiDp1nb"
      }
    },
    {
      "cell_type": "code",
      "source": [
        "# Split the train and the validation set for the fitting\n",
        "# Decide the val_size and read more about random_state https://stackoverflow.com/questions/28064634/random-state-pseudo-random-number-in-scikit-learn\n",
        "# Split the data into training and validation sets\n",
        "X_train, X_test, y_train, y_test = train_test_split(X, y, test_size=0.1, random_state=0)\n"
      ],
      "metadata": {
        "execution": {
          "iopub.status.busy": "2023-05-30T13:36:50.039409Z",
          "iopub.execute_input": "2023-05-30T13:36:50.039730Z",
          "iopub.status.idle": "2023-05-30T13:36:50.699979Z",
          "shell.execute_reply.started": "2023-05-30T13:36:50.039673Z",
          "shell.execute_reply": "2023-05-30T13:36:50.699165Z"
        },
        "trusted": true,
        "id": "T7n4h2pDp1nb"
      },
      "execution_count": null,
      "outputs": []
    },
    {
      "cell_type": "code",
      "source": [
        "X_train.shape, X_test.shape, y_train.shape, y_test.shape # Can you explain these numbers based on the val_size that you set?"
      ],
      "metadata": {
        "execution": {
          "iopub.status.busy": "2023-05-30T13:36:51.760318Z",
          "iopub.execute_input": "2023-05-30T13:36:51.760629Z",
          "iopub.status.idle": "2023-05-30T13:36:51.768123Z",
          "shell.execute_reply.started": "2023-05-30T13:36:51.760573Z",
          "shell.execute_reply": "2023-05-30T13:36:51.767266Z"
        },
        "trusted": true,
        "id": "6E2OBaWdp1nb",
        "colab": {
          "base_uri": "https://localhost:8080/"
        },
        "outputId": "a047aa1f-1f92-4f05-ea4e-594b482b17e7"
      },
      "execution_count": null,
      "outputs": [
        {
          "output_type": "execute_result",
          "data": {
            "text/plain": [
              "((37800, 28, 28, 1), (4200, 28, 28, 1), (37800, 10), (4200, 10))"
            ]
          },
          "metadata": {},
          "execution_count": 19
        }
      ]
    },
    {
      "cell_type": "markdown",
      "source": [
        "I choosed to split the train set in two parts : a small fraction (10%) became the validation set which the model is evaluated and the rest (90%) is used to train the model."
      ],
      "metadata": {
        "id": "N3mPRO2op1nc"
      }
    },
    {
      "cell_type": "markdown",
      "source": [
        "**Data Visualization**"
      ],
      "metadata": {
        "_uuid": "d9f73cd8890cc89d03837ef47210b27b94b156dc",
        "id": "5NjgI5nFp1nc"
      }
    },
    {
      "cell_type": "code",
      "source": [
        "X_train__ = X_train.reshape(X_train.shape[0], 28, 28)\n",
        "\n",
        "fig, axis = plt.subplots(1, 4, figsize=(20, 10))\n",
        "for i, ax in enumerate(axis.flat):\n",
        "    ax.imshow(X_train__[i], cmap='binary')\n",
        "    digit = y_train[i].argmax()\n",
        "    ax.set(title = f\"Real Number is {digit}\");"
      ],
      "metadata": {
        "_uuid": "d00d9b96668d11a33c272b2b64cbb4397dcbba89",
        "scrolled": true,
        "execution": {
          "iopub.status.busy": "2023-05-30T13:36:54.243937Z",
          "iopub.execute_input": "2023-05-30T13:36:54.244302Z",
          "iopub.status.idle": "2023-05-30T13:36:55.235756Z",
          "shell.execute_reply.started": "2023-05-30T13:36:54.244244Z",
          "shell.execute_reply": "2023-05-30T13:36:55.234929Z"
        },
        "trusted": true,
        "id": "_yeEL8yxp1nc",
        "colab": {
          "base_uri": "https://localhost:8080/",
          "height": 274
        },
        "outputId": "24803de5-fd7d-4262-f083-0fbfb08d9cef"
      },
      "execution_count": null,
      "outputs": [
        {
          "output_type": "display_data",
          "data": {
            "text/plain": [
              "<Figure size 2000x1000 with 4 Axes>"
            ],
            "image/png": "[encoded data removed]"
          },
          "metadata": {}
        }
      ]
    },
    {
      "cell_type": "markdown",
      "source": [
        "**Normalization**"
      ],
      "metadata": {
        "_uuid": "a4f73e65842423bae7cfce945cd4dc0e367c180a",
        "id": "_MyDZGckp1nc"
      }
    },
    {
      "cell_type": "code",
      "source": [
        "mean = np.mean(X_train)\n",
        "std = np.std(X_train)\n",
        "\n",
        "def standardize(x):\n",
        "    return (x- mean) / std# Normalize x using mean and std"
      ],
      "metadata": {
        "_uuid": "82bddf135bfad1d3f91b52cd0cadb62e55db964b",
        "execution": {
          "iopub.status.busy": "2023-05-30T13:36:59.339191Z",
          "iopub.execute_input": "2023-05-30T13:36:59.339522Z",
          "iopub.status.idle": "2023-05-30T13:36:59.595246Z",
          "shell.execute_reply.started": "2023-05-30T13:36:59.339469Z",
          "shell.execute_reply": "2023-05-30T13:36:59.594446Z"
        },
        "trusted": true,
        "id": "ljKCdpNRp1nd"
      },
      "execution_count": null,
      "outputs": []
    },
    {
      "cell_type": "markdown",
      "source": [
        "# 3. CNN\n",
        "## 3.1 Define the model"
      ],
      "metadata": {
        "id": "hkZMrZTgp1nd"
      }
    },
    {
      "cell_type": "markdown",
      "source": [],
      "metadata": {
        "id": "p0H9fDmJp1nd"
      }
    },
    {
      "cell_type": "markdown",
      "source": [
        "**Model Definition**"
      ],
      "metadata": {
        "_uuid": "57904be2d2935cece025811c128ca6738cf86800",
        "id": "dI80Ue2xp1nd"
      }
    },
    {
      "cell_type": "code",
      "source": [
        "# Change the layers of the model\n",
        "# Add padding and strides wherever required\n",
        "\n",
        "model=Sequential()\n",
        "\n",
        "model.add(Conv2D(filters=64, kernel_size = (3,3), activation=\"relu\", input_shape=(28,28,1)))\n",
        "model.add(Conv2D(filters=64, kernel_size = (3,3), activation=\"relu\"))\n",
        "model.add(MaxPooling2D(pool_size=(2,2)))\n",
        "model.add(BatchNormalization())\n",
        "\n",
        "model.add(Conv2D(filters=128, kernel_size = (3,3), activation=\"relu\"))\n",
        "model.add(Conv2D(filters=128, kernel_size = (3,3), activation=\"relu\"))\n",
        "model.add(MaxPooling2D(pool_size=(2,2)))\n",
        "model.add(BatchNormalization())\n",
        "\n",
        "model.add(Conv2D(filters=256, kernel_size = (3,3), activation=\"relu\"))\n",
        "model.add(MaxPooling2D(pool_size=(2,2)))\n",
        "model.add(BatchNormalization())\n",
        "\n",
        "model.add(Flatten())\n",
        "model.add(Dense(512,activation=\"relu\"))\n",
        "\n",
        "model.add(Dense(10,activation=\"softmax\"))\n",
        "\n",
        "model.compile(loss=\"categorical_crossentropy\", optimizer=\"adam\", metrics=[\"accuracy\"])"
      ],
      "metadata": {
        "_uuid": "e935c979b0715a68bc8739e6a31f5d9a8189a750",
        "execution": {
          "iopub.status.busy": "2023-05-30T13:37:03.545614Z",
          "iopub.execute_input": "2023-05-30T13:37:03.545937Z",
          "iopub.status.idle": "2023-05-30T13:37:05.671867Z",
          "shell.execute_reply.started": "2023-05-30T13:37:03.545879Z",
          "shell.execute_reply": "2023-05-30T13:37:05.671134Z"
        },
        "trusted": true,
        "id": "eFoBK3uGp1nd"
      },
      "execution_count": null,
      "outputs": []
    },
    {
      "cell_type": "code",
      "source": [
        "model.summary()"
      ],
      "metadata": {
        "execution": {
          "iopub.status.busy": "2023-05-30T13:37:06.398974Z",
          "iopub.execute_input": "2023-05-30T13:37:06.399326Z",
          "iopub.status.idle": "2023-05-30T13:37:06.412585Z",
          "shell.execute_reply.started": "2023-05-30T13:37:06.399271Z",
          "shell.execute_reply": "2023-05-30T13:37:06.411233Z"
        },
        "trusted": true,
        "id": "1fPtpp92p1ne",
        "colab": {
          "base_uri": "https://localhost:8080/"
        },
        "outputId": "96fb585e-b6b5-4cd6-cddd-db88e2a2d9c7"
      },
      "execution_count": null,
      "outputs": [
        {
          "output_type": "stream",
          "name": "stdout",
          "text": [
            "Model: \"sequential\"\n",
            "_________________________________________________________________\n",
            " Layer (type)                Output Shape              Param #   \n",
            "=================================================================\n",
            " conv2d (Conv2D)             (None, 26, 26, 64)        640       \n",
            "                                                                 \n",
            " conv2d_1 (Conv2D)           (None, 24, 24, 64)        36928     \n",
            "                                                                 \n",
            " max_pooling2d (MaxPooling2D  (None, 12, 12, 64)       0         \n",
            " )                                                               \n",
            "                                                                 \n",
            " batch_normalization (BatchN  (None, 12, 12, 64)       256       \n",
            " ormalization)                                                   \n",
            "                                                                 \n",
            " conv2d_2 (Conv2D)           (None, 10, 10, 128)       73856     \n",
            "                                                                 \n",
            " conv2d_3 (Conv2D)           (None, 8, 8, 128)         147584    \n",
            "                                                                 \n",
            " max_pooling2d_1 (MaxPooling  (None, 4, 4, 128)        0         \n",
            " 2D)                                                             \n",
            "                                                                 \n",
            " batch_normalization_1 (Batc  (None, 4, 4, 128)        512       \n",
            " hNormalization)                                                 \n",
            "                                                                 \n",
            " conv2d_4 (Conv2D)           (None, 2, 2, 256)         295168    \n",
            "                                                                 \n",
            " max_pooling2d_2 (MaxPooling  (None, 1, 1, 256)        0         \n",
            " 2D)                                                             \n",
            "                                                                 \n",
            " batch_normalization_2 (Batc  (None, 1, 1, 256)        1024      \n",
            " hNormalization)                                                 \n",
            "                                                                 \n",
            " flatten (Flatten)           (None, 256)               0         \n",
            "                                                                 \n",
            " dense (Dense)               (None, 512)               131584    \n",
            "                                                                 \n",
            " dense_1 (Dense)             (None, 10)                5130      \n",
            "                                                                 \n",
            "=================================================================\n",
            "Total params: 692,682\n",
            "Trainable params: 691,786\n",
            "Non-trainable params: 896\n",
            "_________________________________________________________________\n"
          ]
        }
      ]
    },
    {
      "cell_type": "markdown",
      "source": [
        "## 3.3 Model training"
      ],
      "metadata": {
        "_uuid": "5a9a1f37ef33b24887f97e7992b7d24567602eb8",
        "id": "FY_R4fpXp1nf"
      }
    },
    {
      "cell_type": "code",
      "source": [
        "model.fit(X, y, batch_size=128, validation_split=0.2, epochs=10) # Change the batch_size and epochs\n",
        "# Number of images in X = 42000\n",
        "# Validation split = 20%, so the number of images undergoing training = 80% * 42000 = 33600 = 263 * 128"
      ],
      "metadata": {
        "execution": {
          "iopub.status.busy": "2023-05-30T13:37:45.843235Z",
          "iopub.execute_input": "2023-05-30T13:37:45.843554Z",
          "iopub.status.idle": "2023-05-30T13:38:29.115977Z",
          "shell.execute_reply.started": "2023-05-30T13:37:45.843496Z",
          "shell.execute_reply": "2023-05-30T13:38:29.115291Z"
        },
        "trusted": true,
        "id": "cCT1Sbqrp1nf",
        "colab": {
          "base_uri": "https://localhost:8080/"
        },
        "outputId": "4ca7b7f4-5aa1-4d2c-e45a-cac6045b5f27"
      },
      "execution_count": null,
      "outputs": [
        {
          "output_type": "stream",
          "name": "stdout",
          "text": [
            "Epoch 1/10\n",
            "263/263 [==============================] - 19s 18ms/step - loss: 0.1037 - accuracy: 0.9681 - val_loss: 2.5982 - val_accuracy: 0.3256\n",
            "Epoch 2/10\n",
            "263/263 [==============================] - 4s 14ms/step - loss: 0.0418 - accuracy: 0.9874 - val_loss: 0.0561 - val_accuracy: 0.9829\n",
            "Epoch 3/10\n",
            "263/263 [==============================] - 5s 17ms/step - loss: 0.0256 - accuracy: 0.9916 - val_loss: 0.0623 - val_accuracy: 0.9832\n",
            "Epoch 4/10\n",
            "263/263 [==============================] - 4s 14ms/step - loss: 0.0189 - accuracy: 0.9936 - val_loss: 0.0421 - val_accuracy: 0.9895\n",
            "Epoch 5/10\n",
            "263/263 [==============================] - 4s 14ms/step - loss: 0.0128 - accuracy: 0.9959 - val_loss: 0.0451 - val_accuracy: 0.9900\n",
            "Epoch 6/10\n",
            "263/263 [==============================] - 4s 15ms/step - loss: 0.0126 - accuracy: 0.9958 - val_loss: 0.0357 - val_accuracy: 0.9912\n",
            "Epoch 7/10\n",
            "263/263 [==============================] - 4s 15ms/step - loss: 0.0133 - accuracy: 0.9956 - val_loss: 0.0524 - val_accuracy: 0.9873\n",
            "Epoch 8/10\n",
            "263/263 [==============================] - 4s 14ms/step - loss: 0.0141 - accuracy: 0.9955 - val_loss: 0.0646 - val_accuracy: 0.9846\n",
            "Epoch 9/10\n",
            "263/263 [==============================] - 4s 14ms/step - loss: 0.0151 - accuracy: 0.9953 - val_loss: 0.0467 - val_accuracy: 0.9906\n",
            "Epoch 10/10\n",
            "263/263 [==============================] - 4s 15ms/step - loss: 0.0134 - accuracy: 0.9953 - val_loss: 0.0556 - val_accuracy: 0.9886\n"
          ]
        },
        {
          "output_type": "execute_result",
          "data": {
            "text/plain": [
              "<keras.callbacks.History at 0x7fa509d174c0>"
            ]
          },
          "metadata": {},
          "execution_count": 16
        }
      ]
    },
    {
      "cell_type": "markdown",
      "source": [
        "## 4.2 Confusion matrix"
      ],
      "metadata": {
        "id": "487sAxmxp1ns"
      }
    },
    {
      "cell_type": "code",
      "source": [
        "fig = plt.figure(figsize=(10, 10)) # Set Figure\n",
        "\n",
        "y_pred = model.predict(X_test) # Predict class probabilities as 2 => [0.1, 0, 0.9, 0, 0, 0, 0, 0, 0, 0]\n",
        "Y_pred = np.argmax(y_pred, 1) # Decode Predicted labels\n",
        "Y_test = np.argmax(y_test, 1) # Decode labels\n",
        "\n",
        "mat = confusion_matrix(Y_test, Y_pred) # Confusion matrix\n",
        "\n",
        "# Plot Confusion matrix\n",
        "sns.heatmap(mat.T, square=True, annot=True, cbar=False, cmap=plt.cm.Blues, fmt='.0f')\n",
        "plt.xlabel('Predicted Values')\n",
        "plt.ylabel('True Values');\n",
        "plt.show();"
      ],
      "metadata": {
        "execution": {
          "iopub.status.busy": "2023-05-30T13:40:11.698887Z",
          "iopub.execute_input": "2023-05-30T13:40:11.699266Z",
          "iopub.status.idle": "2023-05-30T13:40:12.734065Z",
          "shell.execute_reply.started": "2023-05-30T13:40:11.699203Z",
          "shell.execute_reply": "2023-05-30T13:40:12.733311Z"
        },
        "trusted": true,
        "id": "xjjyQgq7p1ns",
        "colab": {
          "base_uri": "https://localhost:8080/",
          "height": 867
        },
        "outputId": "270709ba-0fd8-4fe0-d501-80fa918aea98"
      },
      "execution_count": null,
      "outputs": [
        {
          "output_type": "stream",
          "name": "stdout",
          "text": [
            "132/132 [==============================] - 0s 2ms/step\n"
          ]
        },
        {
          "output_type": "display_data",
          "data": {
            "text/plain": [
              "<Figure size 1000x1000 with 1 Axes>"
            ],
            "image/png": "[encoded data removed]"
          },
          "metadata": {}
        }
      ]
    },
    {
      "cell_type": "markdown",
      "source": [
        "# 5. Prediction and submission\n",
        "\n",
        "\n"
      ],
      "metadata": {
        "id": "CB3OhcGhp1nt"
      }
    },
    {
      "cell_type": "markdown",
      "source": [
        "## 5.1 Prediction validation results"
      ],
      "metadata": {
        "id": "YY4ZwwcAp1nt"
      }
    },
    {
      "cell_type": "code",
      "source": [
        "y_pred = model.predict(X_val)\n",
        "X_val__ = X_val.reshape(X_val.shape[0], 28, 28)\n",
        "\n",
        "fig, axis = plt.subplots(4, 4, figsize=(12, 14))\n",
        "for i, ax in enumerate(axis.flat):\n",
        "    ax.imshow(X_val__[i], cmap='binary')\n",
        "    ax.set(title = f\"Real Number is {y_val[i].argmax()}\\nPredict Number is {y_pred[i].argmax()}\");"
      ],
      "metadata": {
        "execution": {
          "iopub.status.busy": "2023-05-30T13:40:17.596620Z",
          "iopub.execute_input": "2023-05-30T13:40:17.596966Z",
          "iopub.status.idle": "2023-05-30T13:40:20.645239Z",
          "shell.execute_reply.started": "2023-05-30T13:40:17.596905Z",
          "shell.execute_reply": "2023-05-30T13:40:20.644132Z"
        },
        "trusted": true,
        "id": "ph8MbAPXp1nt",
        "colab": {
          "base_uri": "https://localhost:8080/",
          "height": 1000
        },
        "outputId": "a43c680a-084c-4358-8c8a-5be4269d4d84"
      },
      "execution_count": null,
      "outputs": [
        {
          "output_type": "stream",
          "name": "stdout",
          "text": [
            "132/132 [==============================] - 0s 2ms/step\n"
          ]
        },
        {
          "output_type": "display_data",
          "data": {
            "text/plain": [
              "<Figure size 1200x1400 with 16 Axes>"
            ],
            "image/png": "[encoded data removed]"
          },
          "metadata": {}
        }
      ]
    },
    {
      "cell_type": "markdown",
      "source": [
        "## 5.2 Submission"
      ],
      "metadata": {
        "id": "eLJZsp2Xp1nt"
      }
    },
    {
      "cell_type": "code",
      "source": [
        "# preprocess test data\n",
        "test_x = test.values\n",
        "test_x = test_x/255 # Normalize the activation values from [0,255] to [0,1]\n",
        "test_x = test_x.reshape(28000,28,28,1) # Reshape the test data from 3 RGB channels to a single grayscale channel\n",
        "# predict test data\n",
        "pred = model.predict(test_x, verbose=1)\n"
      ],
      "metadata": {
        "_uuid": "afcacfa4a023a9e01a61b5d7dcd051f0a439fa38",
        "execution": {
          "iopub.status.busy": "2023-05-30T13:40:24.562230Z",
          "iopub.execute_input": "2023-05-30T13:40:24.562570Z",
          "iopub.status.idle": "2023-05-30T13:40:26.270899Z",
          "shell.execute_reply.started": "2023-05-30T13:40:24.562508Z",
          "shell.execute_reply": "2023-05-30T13:40:26.270114Z"
        },
        "trusted": true,
        "id": "_Z2msJpfp1nu",
        "colab": {
          "base_uri": "https://localhost:8080/"
        },
        "outputId": "9960ba75-f7ec-4597-9359-91683f8f6ec0"
      },
      "execution_count": null,
      "outputs": [
        {
          "output_type": "stream",
          "name": "stdout",
          "text": [
            "875/875 [==============================] - 2s 2ms/step\n"
          ]
        }
      ]
    },
    {
      "cell_type": "code",
      "source": [
        "# submissions\n",
        "sub['Label'] = pred\n",
        "sub.to_csv(\"CNN_keras_sub.csv\", index=False)\n",
        "sub.head()"
      ],
      "metadata": {
        "execution": {
          "iopub.status.busy": "2023-05-30T13:40:29.474277Z",
          "iopub.execute_input": "2023-05-30T13:40:29.474616Z",
          "iopub.status.idle": "2023-05-30T13:40:29.785340Z",
          "shell.execute_reply.started": "2023-05-30T13:40:29.474556Z",
          "shell.execute_reply": "2023-05-30T13:40:29.783507Z"
        },
        "trusted": true,
        "id": "01if6yhqp1nu",
        "colab": {
          "base_uri": "https://localhost:8080/",
          "height": 206
        },
        "outputId": "67edb723-ac0e-4c10-fef8-6d59a99a6716"
      },
      "execution_count": null,
      "outputs": [
        {
          "output_type": "execute_result",
          "data": {
            "text/plain": [
              "   ImageId         Label\n",
              "0        1  7.868925e-19\n",
              "1        2  9.999996e-01\n",
              "2        3  2.351542e-11\n",
              "3        4  9.245149e-01\n",
              "4        5  2.062908e-24"
            ],
            "text/html": [
              "\n",
              "  <div id=\"df-90b24128-2e72-4e16-9065-e1a795df9662\">\n",
              "    <div class=\"colab-df-container\">\n",
              "      <div>\n",
              "<style scoped>\n",
              "    .dataframe tbody tr th:only-of-type {\n",
              "        vertical-align: middle;\n",
              "    }\n",
              "\n",
              "    .dataframe tbody tr th {\n",
              "        vertical-align: top;\n",
              "    }\n",
              "\n",
              "    .dataframe thead th {\n",
              "        text-align: right;\n",
              "    }\n",
              "</style>\n",
              "<table border=\"1\" class=\"dataframe\">\n",
              "  <thead>\n",
              "    <tr style=\"text-align: right;\">\n",
              "      <th></th>\n",
              "      <th>ImageId</th>\n",
              "      <th>Label</th>\n",
              "    </tr>\n",
              "  </thead>\n",
              "  <tbody>\n",
              "    <tr>\n",
              "      <th>0</th>\n",
              "      <td>1</td>\n",
              "      <td>7.868925e-19</td>\n",
              "    </tr>\n",
              "    <tr>\n",
              "      <th>1</th>\n",
              "      <td>2</td>\n",
              "      <td>9.999996e-01</td>\n",
              "    </tr>\n",
              "    <tr>\n",
              "      <th>2</th>\n",
              "      <td>3</td>\n",
              "      <td>2.351542e-11</td>\n",
              "    </tr>\n",
              "    <tr>\n",
              "      <th>3</th>\n",
              "      <td>4</td>\n",
              "      <td>9.245149e-01</td>\n",
              "    </tr>\n",
              "    <tr>\n",
              "      <th>4</th>\n",
              "      <td>5</td>\n",
              "      <td>2.062908e-24</td>\n",
              "    </tr>\n",
              "  </tbody>\n",
              "</table>\n",
              "</div>\n",
              "      <button class=\"colab-df-convert\" onclick=\"convertToInteractive('df-90b24128-2e72-4e16-9065-e1a795df9662')\"\n",
              "              title=\"Convert this dataframe to an interactive table.\"\n",
              "              style=\"display:none;\">\n",
              "        \n",
              "  <svg xmlns=\"http://www.w3.org/2000/svg\" height=\"24px\"viewBox=\"0 0 24 24\"\n",
              "       width=\"24px\">\n",
              "    <path d=\"M0 0h24v24H0V0z\" fill=\"none\"/>\n",
              "    <path d=\"M18.56 5.44l.94 2.06.94-2.06 2.06-.94-2.06-.94-.94-2.06-.94 2.06-2.06.94zm-11 1L8.5 8.5l.94-2.06 2.06-.94-2.06-.94L8.5 2.5l-.94 2.06-2.06.94zm10 10l.94 2.06.94-2.06 2.06-.94-2.06-.94-.94-2.06-.94 2.06-2.06.94z\"/><path d=\"M17.41 7.96l-1.37-1.37c-.4-.4-.92-.59-1.43-.59-.52 0-1.04.2-1.43.59L10.3 9.45l-7.72 7.72c-.78.78-.78 2.05 0 2.83L4 21.41c.39.39.9.59 1.41.59.51 0 1.02-.2 1.41-.59l7.78-7.78 2.81-2.81c.8-.78.8-2.07 0-2.86zM5.41 20L4 18.59l7.72-7.72 1.47 1.35L5.41 20z\"/>\n",
              "  </svg>\n",
              "      </button>\n",
              "      \n",
              "  <style>\n",
              "    .colab-df-container {\n",
              "      display:flex;\n",
              "      flex-wrap:wrap;\n",
              "      gap: 12px;\n",
              "    }\n",
              "\n",
              "    .colab-df-convert {\n",
              "      background-color: #E8F0FE;\n",
              "      border: none;\n",
              "      border-radius: 50%;\n",
              "      cursor: pointer;\n",
              "      display: none;\n",
              "      fill: #1967D2;\n",
              "      height: 32px;\n",
              "      padding: 0 0 0 0;\n",
              "      width: 32px;\n",
              "    }\n",
              "\n",
              "    .colab-df-convert:hover {\n",
              "      background-color: #E2EBFA;\n",
              "      box-shadow: 0px 1px 2px rgba(60, 64, 67, 0.3), 0px 1px 3px 1px rgba(60, 64, 67, 0.15);\n",
              "      fill: #174EA6;\n",
              "    }\n",
              "\n",
              "    [theme=dark] .colab-df-convert {\n",
              "      background-color: #3B4455;\n",
              "      fill: #D2E3FC;\n",
              "    }\n",
              "\n",
              "    [theme=dark] .colab-df-convert:hover {\n",
              "      background-color: #434B5C;\n",
              "      box-shadow: 0px 1px 3px 1px rgba(0, 0, 0, 0.15);\n",
              "      filter: drop-shadow(0px 1px 2px rgba(0, 0, 0, 0.3));\n",
              "      fill: #FFFFFF;\n",
              "    }\n",
              "  </style>\n",
              "\n",
              "      <script>\n",
              "        const buttonEl =\n",
              "          document.querySelector('#df-90b24128-2e72-4e16-9065-e1a795df9662 button.colab-df-convert');\n",
              "        buttonEl.style.display =\n",
              "          google.colab.kernel.accessAllowed ? 'block' : 'none';\n",
              "\n",
              "        async function convertToInteractive(key) {\n",
              "          const element = document.querySelector('#df-90b24128-2e72-4e16-9065-e1a795df9662');\n",
              "          const dataTable =\n",
              "            await google.colab.kernel.invokeFunction('convertToInteractive',\n",
              "                                                     [key], {});\n",
              "          if (!dataTable) return;\n",
              "\n",
              "          const docLinkHtml = 'Like what you see? Visit the ' +\n",
              "            '<a target=\"_blank\" href=https://colab.research.google.com/notebooks/data_table.ipynb>data table notebook</a>'\n",
              "            + ' to learn more about interactive tables.';\n",
              "          element.innerHTML = '';\n",
              "          dataTable['output_type'] = 'display_data';\n",
              "          await google.colab.output.renderOutput(dataTable, element);\n",
              "          const docLink = document.createElement('div');\n",
              "          docLink.innerHTML = docLinkHtml;\n",
              "          element.appendChild(docLink);\n",
              "        }\n",
              "      </script>\n",
              "    </div>\n",
              "  </div>\n",
              "  "
            ]
          },
          "metadata": {},
          "execution_count": 27
        }
      ]
    }
  ]
}